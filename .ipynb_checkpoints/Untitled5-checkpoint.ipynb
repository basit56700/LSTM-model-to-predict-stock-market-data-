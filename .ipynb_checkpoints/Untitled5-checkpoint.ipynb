{
 "cells": [
  {
   "cell_type": "code",
   "execution_count": 1,
   "metadata": {
    "colab": {
     "base_uri": "https://localhost:8080/"
    },
    "id": "Z_FYLBjwdOJV",
    "outputId": "65d7e8a7-9451-497f-8f49-ebcaa3d9f49f"
   },
   "outputs": [
    {
     "name": "stdout",
     "output_type": "stream",
     "text": [
      "Mounted at /content/gdrive\n"
     ]
    }
   ],
   "source": [
    "from google.colab import drive\n",
    "drive.mount('/content/gdrive')"
   ]
  },
  {
   "cell_type": "code",
   "execution_count": 2,
   "metadata": {
    "id": "rUnz8kqtdQoJ"
   },
   "outputs": [],
   "source": [
    "import pandas as pd"
   ]
  },
  {
   "cell_type": "code",
   "execution_count": 3,
   "metadata": {
    "id": "QOCJrzLOdoko"
   },
   "outputs": [],
   "source": [
    "df=pd.read_csv('/content/gdrive/MyDrive/AAPL.csv')"
   ]
  },
  {
   "cell_type": "code",
   "execution_count": 4,
   "metadata": {
    "colab": {
     "base_uri": "https://localhost:8080/",
     "height": 206
    },
    "id": "5n91UDGndvZp",
    "outputId": "67479a92-8b2e-4f8f-b7a7-768fd1a0a18f"
   },
   "outputs": [
    {
     "data": {
      "text/html": [
       "\n",
       "  <div id=\"df-b231d2e1-85aa-41ab-9957-70dee90515c6\">\n",
       "    <div class=\"colab-df-container\">\n",
       "      <div>\n",
       "<style scoped>\n",
       "    .dataframe tbody tr th:only-of-type {\n",
       "        vertical-align: middle;\n",
       "    }\n",
       "\n",
       "    .dataframe tbody tr th {\n",
       "        vertical-align: top;\n",
       "    }\n",
       "\n",
       "    .dataframe thead th {\n",
       "        text-align: right;\n",
       "    }\n",
       "</style>\n",
       "<table border=\"1\" class=\"dataframe\">\n",
       "  <thead>\n",
       "    <tr style=\"text-align: right;\">\n",
       "      <th></th>\n",
       "      <th>Date</th>\n",
       "      <th>Open</th>\n",
       "      <th>High</th>\n",
       "      <th>Low</th>\n",
       "      <th>Close</th>\n",
       "      <th>Adj Close</th>\n",
       "      <th>Volume</th>\n",
       "    </tr>\n",
       "  </thead>\n",
       "  <tbody>\n",
       "    <tr>\n",
       "      <th>0</th>\n",
       "      <td>2010-01-04</td>\n",
       "      <td>7.622500</td>\n",
       "      <td>7.660714</td>\n",
       "      <td>7.585000</td>\n",
       "      <td>7.643214</td>\n",
       "      <td>6.544687</td>\n",
       "      <td>493729600</td>\n",
       "    </tr>\n",
       "    <tr>\n",
       "      <th>1</th>\n",
       "      <td>2010-01-05</td>\n",
       "      <td>7.664286</td>\n",
       "      <td>7.699643</td>\n",
       "      <td>7.616071</td>\n",
       "      <td>7.656429</td>\n",
       "      <td>6.556002</td>\n",
       "      <td>601904800</td>\n",
       "    </tr>\n",
       "    <tr>\n",
       "      <th>2</th>\n",
       "      <td>2010-01-06</td>\n",
       "      <td>7.656429</td>\n",
       "      <td>7.686786</td>\n",
       "      <td>7.526786</td>\n",
       "      <td>7.534643</td>\n",
       "      <td>6.451721</td>\n",
       "      <td>552160000</td>\n",
       "    </tr>\n",
       "    <tr>\n",
       "      <th>3</th>\n",
       "      <td>2010-01-07</td>\n",
       "      <td>7.562500</td>\n",
       "      <td>7.571429</td>\n",
       "      <td>7.466071</td>\n",
       "      <td>7.520714</td>\n",
       "      <td>6.439794</td>\n",
       "      <td>477131200</td>\n",
       "    </tr>\n",
       "    <tr>\n",
       "      <th>4</th>\n",
       "      <td>2010-01-08</td>\n",
       "      <td>7.510714</td>\n",
       "      <td>7.571429</td>\n",
       "      <td>7.466429</td>\n",
       "      <td>7.570714</td>\n",
       "      <td>6.482606</td>\n",
       "      <td>447610800</td>\n",
       "    </tr>\n",
       "  </tbody>\n",
       "</table>\n",
       "</div>\n",
       "      <button class=\"colab-df-convert\" onclick=\"convertToInteractive('df-b231d2e1-85aa-41ab-9957-70dee90515c6')\"\n",
       "              title=\"Convert this dataframe to an interactive table.\"\n",
       "              style=\"display:none;\">\n",
       "        \n",
       "  <svg xmlns=\"http://www.w3.org/2000/svg\" height=\"24px\"viewBox=\"0 0 24 24\"\n",
       "       width=\"24px\">\n",
       "    <path d=\"M0 0h24v24H0V0z\" fill=\"none\"/>\n",
       "    <path d=\"M18.56 5.44l.94 2.06.94-2.06 2.06-.94-2.06-.94-.94-2.06-.94 2.06-2.06.94zm-11 1L8.5 8.5l.94-2.06 2.06-.94-2.06-.94L8.5 2.5l-.94 2.06-2.06.94zm10 10l.94 2.06.94-2.06 2.06-.94-2.06-.94-.94-2.06-.94 2.06-2.06.94z\"/><path d=\"M17.41 7.96l-1.37-1.37c-.4-.4-.92-.59-1.43-.59-.52 0-1.04.2-1.43.59L10.3 9.45l-7.72 7.72c-.78.78-.78 2.05 0 2.83L4 21.41c.39.39.9.59 1.41.59.51 0 1.02-.2 1.41-.59l7.78-7.78 2.81-2.81c.8-.78.8-2.07 0-2.86zM5.41 20L4 18.59l7.72-7.72 1.47 1.35L5.41 20z\"/>\n",
       "  </svg>\n",
       "      </button>\n",
       "      \n",
       "  <style>\n",
       "    .colab-df-container {\n",
       "      display:flex;\n",
       "      flex-wrap:wrap;\n",
       "      gap: 12px;\n",
       "    }\n",
       "\n",
       "    .colab-df-convert {\n",
       "      background-color: #E8F0FE;\n",
       "      border: none;\n",
       "      border-radius: 50%;\n",
       "      cursor: pointer;\n",
       "      display: none;\n",
       "      fill: #1967D2;\n",
       "      height: 32px;\n",
       "      padding: 0 0 0 0;\n",
       "      width: 32px;\n",
       "    }\n",
       "\n",
       "    .colab-df-convert:hover {\n",
       "      background-color: #E2EBFA;\n",
       "      box-shadow: 0px 1px 2px rgba(60, 64, 67, 0.3), 0px 1px 3px 1px rgba(60, 64, 67, 0.15);\n",
       "      fill: #174EA6;\n",
       "    }\n",
       "\n",
       "    [theme=dark] .colab-df-convert {\n",
       "      background-color: #3B4455;\n",
       "      fill: #D2E3FC;\n",
       "    }\n",
       "\n",
       "    [theme=dark] .colab-df-convert:hover {\n",
       "      background-color: #434B5C;\n",
       "      box-shadow: 0px 1px 3px 1px rgba(0, 0, 0, 0.15);\n",
       "      filter: drop-shadow(0px 1px 2px rgba(0, 0, 0, 0.3));\n",
       "      fill: #FFFFFF;\n",
       "    }\n",
       "  </style>\n",
       "\n",
       "      <script>\n",
       "        const buttonEl =\n",
       "          document.querySelector('#df-b231d2e1-85aa-41ab-9957-70dee90515c6 button.colab-df-convert');\n",
       "        buttonEl.style.display =\n",
       "          google.colab.kernel.accessAllowed ? 'block' : 'none';\n",
       "\n",
       "        async function convertToInteractive(key) {\n",
       "          const element = document.querySelector('#df-b231d2e1-85aa-41ab-9957-70dee90515c6');\n",
       "          const dataTable =\n",
       "            await google.colab.kernel.invokeFunction('convertToInteractive',\n",
       "                                                     [key], {});\n",
       "          if (!dataTable) return;\n",
       "\n",
       "          const docLinkHtml = 'Like what you see? Visit the ' +\n",
       "            '<a target=\"_blank\" href=https://colab.research.google.com/notebooks/data_table.ipynb>data table notebook</a>'\n",
       "            + ' to learn more about interactive tables.';\n",
       "          element.innerHTML = '';\n",
       "          dataTable['output_type'] = 'display_data';\n",
       "          await google.colab.output.renderOutput(dataTable, element);\n",
       "          const docLink = document.createElement('div');\n",
       "          docLink.innerHTML = docLinkHtml;\n",
       "          element.appendChild(docLink);\n",
       "        }\n",
       "      </script>\n",
       "    </div>\n",
       "  </div>\n",
       "  "
      ],
      "text/plain": [
       "         Date      Open      High       Low     Close  Adj Close     Volume\n",
       "0  2010-01-04  7.622500  7.660714  7.585000  7.643214   6.544687  493729600\n",
       "1  2010-01-05  7.664286  7.699643  7.616071  7.656429   6.556002  601904800\n",
       "2  2010-01-06  7.656429  7.686786  7.526786  7.534643   6.451721  552160000\n",
       "3  2010-01-07  7.562500  7.571429  7.466071  7.520714   6.439794  477131200\n",
       "4  2010-01-08  7.510714  7.571429  7.466429  7.570714   6.482606  447610800"
      ]
     },
     "execution_count": 4,
     "metadata": {},
     "output_type": "execute_result"
    }
   ],
   "source": [
    "df.head()"
   ]
  },
  {
   "cell_type": "code",
   "execution_count": 5,
   "metadata": {
    "colab": {
     "base_uri": "https://localhost:8080/",
     "height": 206
    },
    "id": "vgqTh07gdxWK",
    "outputId": "2201c584-cdf7-46f5-acbe-aaea11319ff2"
   },
   "outputs": [
    {
     "data": {
      "text/html": [
       "\n",
       "  <div id=\"df-deb73c1c-4cf5-4fe2-b678-cf1a58436943\">\n",
       "    <div class=\"colab-df-container\">\n",
       "      <div>\n",
       "<style scoped>\n",
       "    .dataframe tbody tr th:only-of-type {\n",
       "        vertical-align: middle;\n",
       "    }\n",
       "\n",
       "    .dataframe tbody tr th {\n",
       "        vertical-align: top;\n",
       "    }\n",
       "\n",
       "    .dataframe thead th {\n",
       "        text-align: right;\n",
       "    }\n",
       "</style>\n",
       "<table border=\"1\" class=\"dataframe\">\n",
       "  <thead>\n",
       "    <tr style=\"text-align: right;\">\n",
       "      <th></th>\n",
       "      <th>Date</th>\n",
       "      <th>Open</th>\n",
       "      <th>High</th>\n",
       "      <th>Low</th>\n",
       "      <th>Close</th>\n",
       "      <th>Adj Close</th>\n",
       "      <th>Volume</th>\n",
       "    </tr>\n",
       "  </thead>\n",
       "  <tbody>\n",
       "    <tr>\n",
       "      <th>2510</th>\n",
       "      <td>2019-12-23</td>\n",
       "      <td>70.132500</td>\n",
       "      <td>71.062500</td>\n",
       "      <td>70.092499</td>\n",
       "      <td>71.000000</td>\n",
       "      <td>69.871780</td>\n",
       "      <td>98572000</td>\n",
       "    </tr>\n",
       "    <tr>\n",
       "      <th>2511</th>\n",
       "      <td>2019-12-24</td>\n",
       "      <td>71.172501</td>\n",
       "      <td>71.222504</td>\n",
       "      <td>70.730003</td>\n",
       "      <td>71.067497</td>\n",
       "      <td>69.938187</td>\n",
       "      <td>48478800</td>\n",
       "    </tr>\n",
       "    <tr>\n",
       "      <th>2512</th>\n",
       "      <td>2019-12-26</td>\n",
       "      <td>71.205002</td>\n",
       "      <td>72.495003</td>\n",
       "      <td>71.175003</td>\n",
       "      <td>72.477501</td>\n",
       "      <td>71.325806</td>\n",
       "      <td>93121200</td>\n",
       "    </tr>\n",
       "    <tr>\n",
       "      <th>2513</th>\n",
       "      <td>2019-12-27</td>\n",
       "      <td>72.779999</td>\n",
       "      <td>73.492500</td>\n",
       "      <td>72.029999</td>\n",
       "      <td>72.449997</td>\n",
       "      <td>71.298737</td>\n",
       "      <td>146266000</td>\n",
       "    </tr>\n",
       "    <tr>\n",
       "      <th>2514</th>\n",
       "      <td>2019-12-30</td>\n",
       "      <td>72.364998</td>\n",
       "      <td>73.172501</td>\n",
       "      <td>71.305000</td>\n",
       "      <td>72.879997</td>\n",
       "      <td>71.721901</td>\n",
       "      <td>144114400</td>\n",
       "    </tr>\n",
       "  </tbody>\n",
       "</table>\n",
       "</div>\n",
       "      <button class=\"colab-df-convert\" onclick=\"convertToInteractive('df-deb73c1c-4cf5-4fe2-b678-cf1a58436943')\"\n",
       "              title=\"Convert this dataframe to an interactive table.\"\n",
       "              style=\"display:none;\">\n",
       "        \n",
       "  <svg xmlns=\"http://www.w3.org/2000/svg\" height=\"24px\"viewBox=\"0 0 24 24\"\n",
       "       width=\"24px\">\n",
       "    <path d=\"M0 0h24v24H0V0z\" fill=\"none\"/>\n",
       "    <path d=\"M18.56 5.44l.94 2.06.94-2.06 2.06-.94-2.06-.94-.94-2.06-.94 2.06-2.06.94zm-11 1L8.5 8.5l.94-2.06 2.06-.94-2.06-.94L8.5 2.5l-.94 2.06-2.06.94zm10 10l.94 2.06.94-2.06 2.06-.94-2.06-.94-.94-2.06-.94 2.06-2.06.94z\"/><path d=\"M17.41 7.96l-1.37-1.37c-.4-.4-.92-.59-1.43-.59-.52 0-1.04.2-1.43.59L10.3 9.45l-7.72 7.72c-.78.78-.78 2.05 0 2.83L4 21.41c.39.39.9.59 1.41.59.51 0 1.02-.2 1.41-.59l7.78-7.78 2.81-2.81c.8-.78.8-2.07 0-2.86zM5.41 20L4 18.59l7.72-7.72 1.47 1.35L5.41 20z\"/>\n",
       "  </svg>\n",
       "      </button>\n",
       "      \n",
       "  <style>\n",
       "    .colab-df-container {\n",
       "      display:flex;\n",
       "      flex-wrap:wrap;\n",
       "      gap: 12px;\n",
       "    }\n",
       "\n",
       "    .colab-df-convert {\n",
       "      background-color: #E8F0FE;\n",
       "      border: none;\n",
       "      border-radius: 50%;\n",
       "      cursor: pointer;\n",
       "      display: none;\n",
       "      fill: #1967D2;\n",
       "      height: 32px;\n",
       "      padding: 0 0 0 0;\n",
       "      width: 32px;\n",
       "    }\n",
       "\n",
       "    .colab-df-convert:hover {\n",
       "      background-color: #E2EBFA;\n",
       "      box-shadow: 0px 1px 2px rgba(60, 64, 67, 0.3), 0px 1px 3px 1px rgba(60, 64, 67, 0.15);\n",
       "      fill: #174EA6;\n",
       "    }\n",
       "\n",
       "    [theme=dark] .colab-df-convert {\n",
       "      background-color: #3B4455;\n",
       "      fill: #D2E3FC;\n",
       "    }\n",
       "\n",
       "    [theme=dark] .colab-df-convert:hover {\n",
       "      background-color: #434B5C;\n",
       "      box-shadow: 0px 1px 3px 1px rgba(0, 0, 0, 0.15);\n",
       "      filter: drop-shadow(0px 1px 2px rgba(0, 0, 0, 0.3));\n",
       "      fill: #FFFFFF;\n",
       "    }\n",
       "  </style>\n",
       "\n",
       "      <script>\n",
       "        const buttonEl =\n",
       "          document.querySelector('#df-deb73c1c-4cf5-4fe2-b678-cf1a58436943 button.colab-df-convert');\n",
       "        buttonEl.style.display =\n",
       "          google.colab.kernel.accessAllowed ? 'block' : 'none';\n",
       "\n",
       "        async function convertToInteractive(key) {\n",
       "          const element = document.querySelector('#df-deb73c1c-4cf5-4fe2-b678-cf1a58436943');\n",
       "          const dataTable =\n",
       "            await google.colab.kernel.invokeFunction('convertToInteractive',\n",
       "                                                     [key], {});\n",
       "          if (!dataTable) return;\n",
       "\n",
       "          const docLinkHtml = 'Like what you see? Visit the ' +\n",
       "            '<a target=\"_blank\" href=https://colab.research.google.com/notebooks/data_table.ipynb>data table notebook</a>'\n",
       "            + ' to learn more about interactive tables.';\n",
       "          element.innerHTML = '';\n",
       "          dataTable['output_type'] = 'display_data';\n",
       "          await google.colab.output.renderOutput(dataTable, element);\n",
       "          const docLink = document.createElement('div');\n",
       "          docLink.innerHTML = docLinkHtml;\n",
       "          element.appendChild(docLink);\n",
       "        }\n",
       "      </script>\n",
       "    </div>\n",
       "  </div>\n",
       "  "
      ],
      "text/plain": [
       "            Date       Open       High        Low      Close  Adj Close  \\\n",
       "2510  2019-12-23  70.132500  71.062500  70.092499  71.000000  69.871780   \n",
       "2511  2019-12-24  71.172501  71.222504  70.730003  71.067497  69.938187   \n",
       "2512  2019-12-26  71.205002  72.495003  71.175003  72.477501  71.325806   \n",
       "2513  2019-12-27  72.779999  73.492500  72.029999  72.449997  71.298737   \n",
       "2514  2019-12-30  72.364998  73.172501  71.305000  72.879997  71.721901   \n",
       "\n",
       "         Volume  \n",
       "2510   98572000  \n",
       "2511   48478800  \n",
       "2512   93121200  \n",
       "2513  146266000  \n",
       "2514  144114400  "
      ]
     },
     "execution_count": 5,
     "metadata": {},
     "output_type": "execute_result"
    }
   ],
   "source": [
    "df.tail()"
   ]
  },
  {
   "cell_type": "code",
   "execution_count": 6,
   "metadata": {
    "id": "DP280b2ld0x8"
   },
   "outputs": [],
   "source": [
    "df1=df.reset_index()['Close']"
   ]
  },
  {
   "cell_type": "code",
   "execution_count": 7,
   "metadata": {
    "colab": {
     "base_uri": "https://localhost:8080/"
    },
    "id": "O9k1dsVjd2O_",
    "outputId": "5289a2d6-8b84-473b-da2c-fe7eefb7544e"
   },
   "outputs": [
    {
     "data": {
      "text/plain": [
       "0        7.643214\n",
       "1        7.656429\n",
       "2        7.534643\n",
       "3        7.520714\n",
       "4        7.570714\n",
       "          ...    \n",
       "2510    71.000000\n",
       "2511    71.067497\n",
       "2512    72.477501\n",
       "2513    72.449997\n",
       "2514    72.879997\n",
       "Name: Close, Length: 2515, dtype: float64"
      ]
     },
     "execution_count": 7,
     "metadata": {},
     "output_type": "execute_result"
    }
   ],
   "source": [
    "df1"
   ]
  },
  {
   "cell_type": "code",
   "execution_count": 8,
   "metadata": {
    "colab": {
     "base_uri": "https://localhost:8080/",
     "height": 282
    },
    "id": "2tT0F4Qmd3cn",
    "outputId": "5e88ea07-ebd1-4a92-b1b0-273583047dfb"
   },
   "outputs": [
    {
     "data": {
      "text/plain": [
       "[<matplotlib.lines.Line2D at 0x7f4724699f70>]"
      ]
     },
     "execution_count": 8,
     "metadata": {},
     "output_type": "execute_result"
    },
    {
     "data": {
      "image/png": "[encoded data removed]",
      "text/plain": [
       "<Figure size 432x288 with 1 Axes>"
      ]
     },
     "metadata": {
      "needs_background": "light"
     },
     "output_type": "display_data"
    }
   ],
   "source": [
    "import matplotlib.pyplot as plt\n",
    "plt.plot(df1)"
   ]
  },
  {
   "cell_type": "code",
   "execution_count": 9,
   "metadata": {
    "id": "JZTf_0MWd87W"
   },
   "outputs": [],
   "source": [
    "import numpy as np"
   ]
  },
  {
   "cell_type": "code",
   "execution_count": 10,
   "metadata": {
    "colab": {
     "base_uri": "https://localhost:8080/"
    },
    "id": "CG1OA30vd_-i",
    "outputId": "204f5b86-c503-43f1-ec03-80512f0828de"
   },
   "outputs": [
    {
     "data": {
      "text/plain": [
       "0        7.643214\n",
       "1        7.656429\n",
       "2        7.534643\n",
       "3        7.520714\n",
       "4        7.570714\n",
       "          ...    \n",
       "2510    71.000000\n",
       "2511    71.067497\n",
       "2512    72.477501\n",
       "2513    72.449997\n",
       "2514    72.879997\n",
       "Name: Close, Length: 2515, dtype: float64"
      ]
     },
     "execution_count": 10,
     "metadata": {},
     "output_type": "execute_result"
    }
   ],
   "source": [
    "df1"
   ]
  },
  {
   "cell_type": "code",
   "execution_count": 11,
   "metadata": {
    "id": "n5g5_BsEeCvE"
   },
   "outputs": [],
   "source": [
    "from sklearn.preprocessing import MinMaxScaler\n",
    "scaler=MinMaxScaler(feature_range=(0,1))\n",
    "df1=scaler.fit_transform(np.array(df1).reshape(-1,1))"
   ]
  },
  {
   "cell_type": "code",
   "execution_count": 12,
   "metadata": {
    "colab": {
     "base_uri": "https://localhost:8080/"
    },
    "id": "_H7979M8eE4h",
    "outputId": "9d028ea1-8bca-454f-afaf-9be1cc30f6d8"
   },
   "outputs": [
    {
     "name": "stdout",
     "output_type": "stream",
     "text": [
      "[[0.01187931]\n",
      " [0.01207948]\n",
      " [0.01023482]\n",
      " ...\n",
      " [0.99390352]\n",
      " [0.99348693]\n",
      " [1.        ]]\n"
     ]
    }
   ],
   "source": [
    "print(df1)"
   ]
  },
  {
   "cell_type": "code",
   "execution_count": 13,
   "metadata": {
    "id": "LWrDRP3QeG1W"
   },
   "outputs": [],
   "source": [
    "##splitting dataset into train and test split\n",
    "training_size=int(len(df1)*0.65)\n",
    "test_size=len(df1)-training_size\n",
    "train_data,test_data=df1[0:training_size,:],df1[training_size:len(df1),:1]"
   ]
  },
  {
   "cell_type": "code",
   "execution_count": 14,
   "metadata": {
    "colab": {
     "base_uri": "https://localhost:8080/"
    },
    "id": "0TbK2aF5eJAl",
    "outputId": "d93ceb0e-8326-417b-fc38-466b1d042c52"
   },
   "outputs": [
    {
     "data": {
      "text/plain": [
       "(1634, 881)"
      ]
     },
     "execution_count": 14,
     "metadata": {},
     "output_type": "execute_result"
    }
   ],
   "source": [
    "training_size,test_size"
   ]
  },
  {
   "cell_type": "code",
   "execution_count": 15,
   "metadata": {
    "colab": {
     "base_uri": "https://localhost:8080/"
    },
    "id": "QxNC6FOqeKJf",
    "outputId": "6900164d-ad5e-42f8-a8c6-1d5b39509437"
   },
   "outputs": [
    {
     "data": {
      "text/plain": [
       "array([[0.01187931],\n",
       "       [0.01207948],\n",
       "       [0.01023482],\n",
       "       ...,\n",
       "       [0.24463511],\n",
       "       [0.25050443],\n",
       "       [0.25357165]])"
      ]
     },
     "execution_count": 15,
     "metadata": {},
     "output_type": "execute_result"
    }
   ],
   "source": [
    "train_data"
   ]
  },
  {
   "cell_type": "code",
   "execution_count": 16,
   "metadata": {
    "id": "UhdzAGaGeLpy"
   },
   "outputs": [],
   "source": [
    "import numpy\n",
    "# convert an array of values into a dataset matrix\n",
    "def create_dataset(dataset, time_step=1):\n",
    "\tdataX, dataY = [], []\n",
    "\tfor i in range(len(dataset)-time_step-1):\n",
    "\t\ta = dataset[i:(i+time_step), 0]   ###i=0, 0,1,2,3-----99   100 \n",
    "\t\tdataX.append(a)\n",
    "\t\tdataY.append(dataset[i + time_step, 0])\n",
    "\treturn numpy.array(dataX), numpy.array(dataY)"
   ]
  },
  {
   "cell_type": "code",
   "execution_count": 17,
   "metadata": {
    "id": "rWelqyw6eOMK"
   },
   "outputs": [],
   "source": [
    "# reshape into X=t,t+1,t+2,t+3 and Y=t+4\n",
    "time_step = 100\n",
    "X_train, y_train = create_dataset(train_data, time_step)\n",
    "X_test, ytest = create_dataset(test_data, time_step)"
   ]
  },
  {
   "cell_type": "code",
   "execution_count": 18,
   "metadata": {
    "colab": {
     "base_uri": "https://localhost:8080/"
    },
    "id": "E7MFtilAePmn",
    "outputId": "c41c1e44-4f28-47fa-d407-9a7512571727"
   },
   "outputs": [
    {
     "name": "stdout",
     "output_type": "stream",
     "text": [
      "(1533, 100)\n",
      "(1533,)\n"
     ]
    },
    {
     "data": {
      "text/plain": [
       "(None, None)"
      ]
     },
     "execution_count": 18,
     "metadata": {},
     "output_type": "execute_result"
    }
   ],
   "source": [
    "print(X_train.shape), print(y_train.shape)"
   ]
  },
  {
   "cell_type": "code",
   "execution_count": 19,
   "metadata": {
    "colab": {
     "base_uri": "https://localhost:8080/"
    },
    "id": "QD3jcdgdeQtz",
    "outputId": "49829f76-ad28-4799-fbce-a5fe5387f1c8"
   },
   "outputs": [
    {
     "name": "stdout",
     "output_type": "stream",
     "text": [
      "(780, 100)\n",
      "(780,)\n"
     ]
    },
    {
     "data": {
      "text/plain": [
       "(None, None)"
      ]
     },
     "execution_count": 19,
     "metadata": {},
     "output_type": "execute_result"
    }
   ],
   "source": [
    "print(X_test.shape), print(ytest.shape)"
   ]
  },
  {
   "cell_type": "code",
   "execution_count": 20,
   "metadata": {
    "id": "3aWD0KHveXog"
   },
   "outputs": [],
   "source": [
    "### Create the Stacked LSTM model\n",
    "from tensorflow.keras.models import Sequential\n",
    "from tensorflow.keras.layers import Dense\n",
    "from tensorflow.keras.layers import LSTM"
   ]
  },
  {
   "cell_type": "code",
   "execution_count": 21,
   "metadata": {
    "id": "QzHw-IB9eYX5"
   },
   "outputs": [],
   "source": [
    "model=Sequential()\n",
    "model.add(LSTM(50,return_sequences=True,input_shape=(100,1)))\n",
    "model.add(LSTM(50,return_sequences=True))\n",
    "model.add(LSTM(50))\n",
    "model.add(Dense(1))\n",
    "model.compile(loss='mean_squared_error',optimizer='adam')"
   ]
  },
  {
   "cell_type": "code",
   "execution_count": 22,
   "metadata": {
    "colab": {
     "base_uri": "https://localhost:8080/"
    },
    "id": "OvRIPkRoeaFM",
    "outputId": "624c0e74-5b00-44fe-ba7e-589210586010"
   },
   "outputs": [
    {
     "name": "stdout",
     "output_type": "stream",
     "text": [
      "Model: \"sequential\"\n",
      "_________________________________________________________________\n",
      " Layer (type)                Output Shape              Param #   \n",
      "=================================================================\n",
      " lstm (LSTM)                 (None, 100, 50)           10400     \n",
      "                                                                 \n",
      " lstm_1 (LSTM)               (None, 100, 50)           20200     \n",
      "                                                                 \n",
      " lstm_2 (LSTM)               (None, 50)                20200     \n",
      "                                                                 \n",
      " dense (Dense)               (None, 1)                 51        \n",
      "                                                                 \n",
      "=================================================================\n",
      "Total params: 50,851\n",
      "Trainable params: 50,851\n",
      "Non-trainable params: 0\n",
      "_________________________________________________________________\n"
     ]
    }
   ],
   "source": [
    "model.summary()"
   ]
  },
  {
   "cell_type": "code",
   "execution_count": 23,
   "metadata": {
    "colab": {
     "base_uri": "https://localhost:8080/"
    },
    "id": "tJ1duEAYebp1",
    "outputId": "3a242744-f604-49b3-d245-d27ce063ca9a"
   },
   "outputs": [
    {
     "name": "stdout",
     "output_type": "stream",
     "text": [
      "Model: \"sequential\"\n",
      "_________________________________________________________________\n",
      " Layer (type)                Output Shape              Param #   \n",
      "=================================================================\n",
      " lstm (LSTM)                 (None, 100, 50)           10400     \n",
      "                                                                 \n",
      " lstm_1 (LSTM)               (None, 100, 50)           20200     \n",
      "                                                                 \n",
      " lstm_2 (LSTM)               (None, 50)                20200     \n",
      "                                                                 \n",
      " dense (Dense)               (None, 1)                 51        \n",
      "                                                                 \n",
      "=================================================================\n",
      "Total params: 50,851\n",
      "Trainable params: 50,851\n",
      "Non-trainable params: 0\n",
      "_________________________________________________________________\n"
     ]
    }
   ],
   "source": [
    "model.summary()"
   ]
  },
  {
   "cell_type": "code",
   "execution_count": 24,
   "metadata": {
    "colab": {
     "base_uri": "https://localhost:8080/"
    },
    "id": "TO9tLrMFegbf",
    "outputId": "c2123f23-6da3-4b95-a688-6c19c0e91248"
   },
   "outputs": [
    {
     "name": "stdout",
     "output_type": "stream",
     "text": [
      "Epoch 1/100\n",
      "24/24 [==============================] - 16s 394ms/step - loss: 0.0073 - val_loss: 0.0060\n",
      "Epoch 2/100\n",
      "24/24 [==============================] - 6s 231ms/step - loss: 6.2601e-04 - val_loss: 0.0013\n",
      "Epoch 3/100\n",
      "24/24 [==============================] - 5s 228ms/step - loss: 2.7369e-04 - val_loss: 0.0022\n",
      "Epoch 4/100\n",
      "24/24 [==============================] - 7s 318ms/step - loss: 2.3364e-04 - val_loss: 0.0016\n",
      "Epoch 5/100\n",
      "24/24 [==============================] - 10s 430ms/step - loss: 2.1659e-04 - val_loss: 0.0015\n",
      "Epoch 6/100\n",
      "24/24 [==============================] - 6s 246ms/step - loss: 2.1560e-04 - val_loss: 0.0018\n",
      "Epoch 7/100\n",
      "24/24 [==============================] - 5s 230ms/step - loss: 2.2320e-04 - val_loss: 0.0018\n",
      "Epoch 8/100\n",
      "24/24 [==============================] - 5s 224ms/step - loss: 2.1606e-04 - val_loss: 0.0016\n",
      "Epoch 9/100\n",
      "24/24 [==============================] - 5s 207ms/step - loss: 2.1193e-04 - val_loss: 0.0020\n",
      "Epoch 10/100\n",
      "24/24 [==============================] - 5s 225ms/step - loss: 1.9908e-04 - val_loss: 0.0010\n",
      "Epoch 11/100\n",
      "24/24 [==============================] - 5s 210ms/step - loss: 1.8217e-04 - val_loss: 0.0014\n",
      "Epoch 12/100\n",
      "24/24 [==============================] - 5s 207ms/step - loss: 1.7328e-04 - val_loss: 0.0015\n",
      "Epoch 13/100\n",
      "24/24 [==============================] - 5s 207ms/step - loss: 1.6940e-04 - val_loss: 0.0014\n",
      "Epoch 14/100\n",
      "24/24 [==============================] - 5s 208ms/step - loss: 1.7749e-04 - val_loss: 9.8494e-04\n",
      "Epoch 15/100\n",
      "24/24 [==============================] - 5s 207ms/step - loss: 1.6147e-04 - val_loss: 0.0014\n",
      "Epoch 16/100\n",
      "24/24 [==============================] - 5s 208ms/step - loss: 1.4928e-04 - val_loss: 0.0014\n",
      "Epoch 17/100\n",
      "24/24 [==============================] - 5s 207ms/step - loss: 1.5059e-04 - val_loss: 0.0014\n",
      "Epoch 18/100\n",
      "24/24 [==============================] - 5s 208ms/step - loss: 1.5424e-04 - val_loss: 0.0020\n",
      "Epoch 19/100\n",
      "24/24 [==============================] - 5s 208ms/step - loss: 1.4100e-04 - val_loss: 0.0014\n",
      "Epoch 20/100\n",
      "24/24 [==============================] - 6s 243ms/step - loss: 1.3992e-04 - val_loss: 0.0016\n",
      "Epoch 21/100\n",
      "24/24 [==============================] - 6s 264ms/step - loss: 1.5739e-04 - val_loss: 6.0066e-04\n",
      "Epoch 22/100\n",
      "24/24 [==============================] - 5s 207ms/step - loss: 1.3877e-04 - val_loss: 8.6270e-04\n",
      "Epoch 23/100\n",
      "24/24 [==============================] - 5s 223ms/step - loss: 1.3934e-04 - val_loss: 0.0013\n",
      "Epoch 24/100\n",
      "24/24 [==============================] - 5s 207ms/step - loss: 1.2968e-04 - val_loss: 0.0014\n",
      "Epoch 25/100\n",
      "24/24 [==============================] - 5s 208ms/step - loss: 1.2907e-04 - val_loss: 0.0015\n",
      "Epoch 26/100\n",
      "24/24 [==============================] - 5s 210ms/step - loss: 1.2410e-04 - val_loss: 9.2200e-04\n",
      "Epoch 27/100\n",
      "24/24 [==============================] - 5s 208ms/step - loss: 1.3432e-04 - val_loss: 6.1783e-04\n",
      "Epoch 28/100\n",
      "24/24 [==============================] - 5s 209ms/step - loss: 1.3531e-04 - val_loss: 0.0012\n",
      "Epoch 29/100\n",
      "24/24 [==============================] - 5s 206ms/step - loss: 1.2226e-04 - val_loss: 4.5219e-04\n",
      "Epoch 30/100\n",
      "24/24 [==============================] - 6s 245ms/step - loss: 1.2499e-04 - val_loss: 6.2268e-04\n",
      "Epoch 31/100\n",
      "24/24 [==============================] - 5s 209ms/step - loss: 1.1549e-04 - val_loss: 6.2364e-04\n",
      "Epoch 32/100\n",
      "24/24 [==============================] - 5s 209ms/step - loss: 1.2426e-04 - val_loss: 6.8508e-04\n",
      "Epoch 33/100\n",
      "24/24 [==============================] - 5s 207ms/step - loss: 1.1831e-04 - val_loss: 7.6515e-04\n",
      "Epoch 34/100\n",
      "24/24 [==============================] - 5s 206ms/step - loss: 1.1497e-04 - val_loss: 4.3363e-04\n",
      "Epoch 35/100\n",
      "24/24 [==============================] - 5s 208ms/step - loss: 1.0839e-04 - val_loss: 7.4543e-04\n",
      "Epoch 36/100\n",
      "24/24 [==============================] - 5s 207ms/step - loss: 1.3498e-04 - val_loss: 3.7791e-04\n",
      "Epoch 37/100\n",
      "24/24 [==============================] - 5s 208ms/step - loss: 1.2129e-04 - val_loss: 3.7794e-04\n",
      "Epoch 38/100\n",
      "24/24 [==============================] - 5s 208ms/step - loss: 1.1160e-04 - val_loss: 3.7355e-04\n",
      "Epoch 39/100\n",
      "24/24 [==============================] - 5s 209ms/step - loss: 1.0330e-04 - val_loss: 6.7745e-04\n",
      "Epoch 40/100\n",
      "24/24 [==============================] - 5s 206ms/step - loss: 1.1798e-04 - val_loss: 3.7472e-04\n",
      "Epoch 41/100\n",
      "24/24 [==============================] - 5s 207ms/step - loss: 1.0827e-04 - val_loss: 8.5569e-04\n",
      "Epoch 42/100\n",
      "24/24 [==============================] - 5s 209ms/step - loss: 1.1532e-04 - val_loss: 4.0257e-04\n",
      "Epoch 43/100\n",
      "24/24 [==============================] - 5s 208ms/step - loss: 9.6830e-05 - val_loss: 4.8553e-04\n",
      "Epoch 44/100\n",
      "24/24 [==============================] - 5s 208ms/step - loss: 9.5049e-05 - val_loss: 3.7306e-04\n",
      "Epoch 45/100\n",
      "24/24 [==============================] - 5s 209ms/step - loss: 9.4195e-05 - val_loss: 6.0837e-04\n",
      "Epoch 46/100\n",
      "24/24 [==============================] - 5s 207ms/step - loss: 9.8676e-05 - val_loss: 3.4108e-04\n",
      "Epoch 47/100\n",
      "24/24 [==============================] - 5s 209ms/step - loss: 9.4583e-05 - val_loss: 4.6342e-04\n",
      "Epoch 48/100\n",
      "24/24 [==============================] - 5s 205ms/step - loss: 9.4569e-05 - val_loss: 8.1854e-04\n",
      "Epoch 49/100\n",
      "24/24 [==============================] - 5s 208ms/step - loss: 9.1269e-05 - val_loss: 4.3607e-04\n",
      "Epoch 50/100\n",
      "24/24 [==============================] - 5s 208ms/step - loss: 9.1600e-05 - val_loss: 7.2295e-04\n",
      "Epoch 51/100\n",
      "24/24 [==============================] - 5s 207ms/step - loss: 9.1188e-05 - val_loss: 3.3593e-04\n",
      "Epoch 52/100\n",
      "24/24 [==============================] - 5s 209ms/step - loss: 8.6118e-05 - val_loss: 2.7954e-04\n",
      "Epoch 53/100\n",
      "24/24 [==============================] - 7s 288ms/step - loss: 9.4924e-05 - val_loss: 3.9550e-04\n",
      "Epoch 54/100\n",
      "24/24 [==============================] - 5s 209ms/step - loss: 8.9616e-05 - val_loss: 3.7771e-04\n",
      "Epoch 55/100\n",
      "24/24 [==============================] - 5s 208ms/step - loss: 9.5821e-05 - val_loss: 4.6052e-04\n",
      "Epoch 56/100\n",
      "24/24 [==============================] - 5s 207ms/step - loss: 8.6671e-05 - val_loss: 3.7652e-04\n",
      "Epoch 57/100\n",
      "24/24 [==============================] - 5s 208ms/step - loss: 8.3961e-05 - val_loss: 2.5442e-04\n",
      "Epoch 58/100\n",
      "24/24 [==============================] - 5s 209ms/step - loss: 8.5869e-05 - val_loss: 2.5560e-04\n",
      "Epoch 59/100\n",
      "24/24 [==============================] - 5s 210ms/step - loss: 8.9199e-05 - val_loss: 3.7498e-04\n",
      "Epoch 60/100\n",
      "24/24 [==============================] - 5s 210ms/step - loss: 7.7503e-05 - val_loss: 2.7013e-04\n",
      "Epoch 61/100\n",
      "24/24 [==============================] - 5s 210ms/step - loss: 7.5081e-05 - val_loss: 3.4897e-04\n",
      "Epoch 62/100\n",
      "24/24 [==============================] - 5s 209ms/step - loss: 7.3794e-05 - val_loss: 2.9372e-04\n",
      "Epoch 63/100\n",
      "24/24 [==============================] - 5s 208ms/step - loss: 8.6732e-05 - val_loss: 3.5780e-04\n",
      "Epoch 64/100\n",
      "24/24 [==============================] - 5s 206ms/step - loss: 7.8112e-05 - val_loss: 3.0038e-04\n",
      "Epoch 65/100\n",
      "24/24 [==============================] - 5s 206ms/step - loss: 7.0920e-05 - val_loss: 2.3779e-04\n",
      "Epoch 66/100\n",
      "24/24 [==============================] - 5s 210ms/step - loss: 7.1630e-05 - val_loss: 2.9041e-04\n",
      "Epoch 67/100\n",
      "24/24 [==============================] - 5s 209ms/step - loss: 7.1181e-05 - val_loss: 2.2239e-04\n",
      "Epoch 68/100\n",
      "24/24 [==============================] - 5s 209ms/step - loss: 6.9847e-05 - val_loss: 2.3194e-04\n",
      "Epoch 69/100\n",
      "24/24 [==============================] - 5s 208ms/step - loss: 7.1160e-05 - val_loss: 2.3747e-04\n",
      "Epoch 70/100\n",
      "24/24 [==============================] - 5s 205ms/step - loss: 6.3625e-05 - val_loss: 2.1527e-04\n",
      "Epoch 71/100\n",
      "24/24 [==============================] - 5s 209ms/step - loss: 6.3708e-05 - val_loss: 2.2369e-04\n",
      "Epoch 72/100\n",
      "24/24 [==============================] - 5s 207ms/step - loss: 6.4878e-05 - val_loss: 2.3197e-04\n",
      "Epoch 73/100\n",
      "24/24 [==============================] - 5s 207ms/step - loss: 7.1758e-05 - val_loss: 3.5826e-04\n",
      "Epoch 74/100\n",
      "24/24 [==============================] - 5s 209ms/step - loss: 6.0987e-05 - val_loss: 2.5901e-04\n",
      "Epoch 75/100\n",
      "24/24 [==============================] - 5s 209ms/step - loss: 6.9991e-05 - val_loss: 4.8391e-04\n",
      "Epoch 76/100\n",
      "24/24 [==============================] - 5s 209ms/step - loss: 6.6359e-05 - val_loss: 2.1299e-04\n",
      "Epoch 77/100\n",
      "24/24 [==============================] - 5s 207ms/step - loss: 6.0319e-05 - val_loss: 2.1324e-04\n",
      "Epoch 78/100\n",
      "24/24 [==============================] - 5s 209ms/step - loss: 6.0878e-05 - val_loss: 3.2705e-04\n",
      "Epoch 79/100\n",
      "24/24 [==============================] - 5s 205ms/step - loss: 5.8279e-05 - val_loss: 2.1081e-04\n",
      "Epoch 80/100\n",
      "24/24 [==============================] - 5s 205ms/step - loss: 6.3236e-05 - val_loss: 2.2468e-04\n",
      "Epoch 81/100\n",
      "24/24 [==============================] - 5s 205ms/step - loss: 6.0448e-05 - val_loss: 3.5322e-04\n",
      "Epoch 82/100\n",
      "24/24 [==============================] - 5s 207ms/step - loss: 7.0107e-05 - val_loss: 4.7446e-04\n",
      "Epoch 83/100\n",
      "24/24 [==============================] - 5s 209ms/step - loss: 5.9329e-05 - val_loss: 2.6590e-04\n",
      "Epoch 84/100\n",
      "24/24 [==============================] - 5s 209ms/step - loss: 5.8319e-05 - val_loss: 2.0094e-04\n",
      "Epoch 85/100\n",
      "24/24 [==============================] - 6s 256ms/step - loss: 5.4506e-05 - val_loss: 3.4574e-04\n",
      "Epoch 86/100\n",
      "24/24 [==============================] - 6s 229ms/step - loss: 6.2221e-05 - val_loss: 2.3604e-04\n",
      "Epoch 87/100\n",
      "24/24 [==============================] - 5s 207ms/step - loss: 5.4778e-05 - val_loss: 1.9717e-04\n",
      "Epoch 88/100\n",
      "24/24 [==============================] - 5s 208ms/step - loss: 5.2775e-05 - val_loss: 2.4022e-04\n",
      "Epoch 89/100\n",
      "24/24 [==============================] - 5s 209ms/step - loss: 6.0686e-05 - val_loss: 1.9041e-04\n",
      "Epoch 90/100\n",
      "24/24 [==============================] - 5s 210ms/step - loss: 5.7999e-05 - val_loss: 2.0392e-04\n",
      "Epoch 91/100\n",
      "24/24 [==============================] - 5s 208ms/step - loss: 5.5425e-05 - val_loss: 1.8528e-04\n",
      "Epoch 92/100\n",
      "24/24 [==============================] - 5s 209ms/step - loss: 6.1768e-05 - val_loss: 1.7675e-04\n",
      "Epoch 93/100\n",
      "24/24 [==============================] - 5s 209ms/step - loss: 5.2055e-05 - val_loss: 3.0465e-04\n",
      "Epoch 94/100\n",
      "24/24 [==============================] - 5s 208ms/step - loss: 5.9643e-05 - val_loss: 2.0863e-04\n",
      "Epoch 95/100\n",
      "24/24 [==============================] - 5s 210ms/step - loss: 4.8551e-05 - val_loss: 2.1688e-04\n",
      "Epoch 96/100\n",
      "24/24 [==============================] - 5s 211ms/step - loss: 4.9948e-05 - val_loss: 1.8527e-04\n",
      "Epoch 97/100\n",
      "24/24 [==============================] - 5s 209ms/step - loss: 6.0037e-05 - val_loss: 4.5673e-04\n",
      "Epoch 98/100\n",
      "24/24 [==============================] - 5s 210ms/step - loss: 5.1114e-05 - val_loss: 1.9827e-04\n",
      "Epoch 99/100\n",
      "24/24 [==============================] - 5s 210ms/step - loss: 5.1342e-05 - val_loss: 1.8450e-04\n",
      "Epoch 100/100\n",
      "24/24 [==============================] - 5s 209ms/step - loss: 5.0473e-05 - val_loss: 3.5218e-04\n"
     ]
    },
    {
     "data": {
      "text/plain": [
       "<keras.callbacks.History at 0x7f46c1718250>"
      ]
     },
     "execution_count": 24,
     "metadata": {},
     "output_type": "execute_result"
    }
   ],
   "source": [
    "model.fit(X_train,y_train,validation_data=(X_test,ytest),epochs=100,batch_size=64,verbose=1)"
   ]
  },
  {
   "cell_type": "code",
   "execution_count": 25,
   "metadata": {
    "id": "2yCGCMkWejFv"
   },
   "outputs": [],
   "source": [
    "import tensorflow as tf"
   ]
  },
  {
   "cell_type": "code",
   "execution_count": 26,
   "metadata": {
    "colab": {
     "base_uri": "https://localhost:8080/",
     "height": 35
    },
    "id": "Bzwq7Hx_el-A",
    "outputId": "370e749d-2fe1-4636-c687-79552444d7da"
   },
   "outputs": [
    {
     "data": {
      "application/vnd.google.colaboratory.intrinsic+json": {
       "type": "string"
      },
      "text/plain": [
       "'2.9.2'"
      ]
     },
     "execution_count": 26,
     "metadata": {},
     "output_type": "execute_result"
    }
   ],
   "source": [
    "tf.__version__"
   ]
  },
  {
   "cell_type": "code",
   "execution_count": 27,
   "metadata": {
    "colab": {
     "base_uri": "https://localhost:8080/"
    },
    "id": "piZFcFHOemR2",
    "outputId": "6fd10dc7-17e6-423a-f5e1-50c275eb9fe5"
   },
   "outputs": [
    {
     "name": "stdout",
     "output_type": "stream",
     "text": [
      "48/48 [==============================] - 3s 36ms/step\n",
      "25/25 [==============================] - 1s 35ms/step\n"
     ]
    }
   ],
   "source": [
    "### Lets Do the prediction and check performance metrics\n",
    "train_predict=model.predict(X_train)\n",
    "test_predict=model.predict(X_test)"
   ]
  },
  {
   "cell_type": "code",
   "execution_count": 28,
   "metadata": {
    "id": "O-JiueRvemZ4"
   },
   "outputs": [],
   "source": [
    "##Transformback to original form\n",
    "train_predict=scaler.inverse_transform(train_predict)\n",
    "test_predict=scaler.inverse_transform(test_predict)"
   ]
  },
  {
   "cell_type": "code",
   "execution_count": 29,
   "metadata": {
    "colab": {
     "base_uri": "https://localhost:8080/"
    },
    "id": "up2tJADzermE",
    "outputId": "968c12b9-a20a-4f2a-a49d-7f6f31f354c0"
   },
   "outputs": [
    {
     "data": {
      "text/plain": [
       "20.3182936121511"
      ]
     },
     "execution_count": 29,
     "metadata": {},
     "output_type": "execute_result"
    }
   ],
   "source": [
    "### Calculate RMSE performance metrics\n",
    "import math\n",
    "from sklearn.metrics import mean_squared_error\n",
    "math.sqrt(mean_squared_error(y_train,train_predict))"
   ]
  },
  {
   "cell_type": "code",
   "execution_count": 30,
   "metadata": {
    "colab": {
     "base_uri": "https://localhost:8080/"
    },
    "id": "iy2bw4zRerpD",
    "outputId": "d8e027be-aa59-4bd5-8b30-eb508fa1456a"
   },
   "outputs": [
    {
     "data": {
      "text/plain": [
       "44.36803165850438"
      ]
     },
     "execution_count": 30,
     "metadata": {},
     "output_type": "execute_result"
    }
   ],
   "source": [
    "### Test Data RMSE\n",
    "math.sqrt(mean_squared_error(ytest,test_predict))"
   ]
  },
  {
   "cell_type": "code",
   "execution_count": 31,
   "metadata": {
    "colab": {
     "base_uri": "https://localhost:8080/",
     "height": 265
    },
    "id": "LTtQIPoHew_T",
    "outputId": "2154d7a3-0690-41b5-be0f-3f9be65bba4f"
   },
   "outputs": [
    {
     "data": {
      "image/png": "[encoded data removed]",
      "text/plain": [
       "<Figure size 432x288 with 1 Axes>"
      ]
     },
     "metadata": {
      "needs_background": "light"
     },
     "output_type": "display_data"
    }
   ],
   "source": [
    "### Plotting \n",
    "# shift train predictions for plotting\n",
    "look_back=100\n",
    "trainPredictPlot = numpy.empty_like(df1)\n",
    "trainPredictPlot[:, :] = np.nan\n",
    "trainPredictPlot[look_back:len(train_predict)+look_back, :] = train_predict\n",
    "# shift test predictions for plotting\n",
    "testPredictPlot = numpy.empty_like(df1)\n",
    "testPredictPlot[:, :] = numpy.nan\n",
    "testPredictPlot[len(train_predict)+(look_back*2)+1:len(df1)-1, :] = test_predict\n",
    "# plot baseline and predictions\n",
    "plt.plot(scaler.inverse_transform(df1))\n",
    "plt.plot(trainPredictPlot)\n",
    "plt.plot(testPredictPlot)\n",
    "plt.show()"
   ]
  },
  {
   "cell_type": "code",
   "execution_count": null,
   "metadata": {
    "id": "P0MYCgEIg1Pu"
   },
   "outputs": [],
   "source": []
  }
 ],
 "metadata": {
  "colab": {
   "provenance": []
  },
  "kernelspec": {
   "display_name": "Python 3 (ipykernel)",
   "language": "python",
   "name": "python3"
  },
  "language_info": {
   "codemirror_mode": {
    "name": "ipython",
    "version": 3
   },
   "file_extension": ".py",
   "mimetype": "text/x-python",
   "name": "python",
   "nbconvert_exporter": "python",
   "pygments_lexer": "ipython3",
   "version": "3.9.7"
  }
 },
 "nbformat": 4,
 "nbformat_minor": 1
}
